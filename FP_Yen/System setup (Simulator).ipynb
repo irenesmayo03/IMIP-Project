{
 "cells": [
  {
   "cell_type": "code",
   "execution_count": 2,
   "id": "d368678c-c435-4115-9d2b-f44e565a5bb5",
   "metadata": {},
   "outputs": [],
   "source": [
    "# SystemSetup equivalent in Python\n",
    "# =================================\n",
    "# Initialize general system parameters for LED array microscope\n",
    "\n",
    "import numpy as np\n",
    "\n",
    "# Fourier operators\n",
    "F = lambda x: np.fft.fftshift(np.fft.fft2(x))\n",
    "Ft = lambda x: np.fft.ifft2(np.fft.ifftshift(x))\n",
    "row = lambda x: x.flatten()[np.newaxis, :]"
   ]
  },
  {
   "cell_type": "code",
   "execution_count": 13,
   "id": "0848c16e-a909-40d3-9980-23a80f92dc83",
   "metadata": {},
   "outputs": [],
   "source": [
    "# =====================================================================\n",
    "# wavelength of illumination, assume monochromatic\n",
    "# R: 624.4nm +- 50nm\n",
    "# G: 518.0nm +- 50nm\n",
    "# B: 476.4nm +- 50nm\n",
    "# =====================================================================\n",
    "lambda_m = 0.514e-6  # meters"
   ]
  },
  {
   "cell_type": "code",
   "execution_count": 14,
   "id": "ce1a5cfa-1876-482e-8319-c7608286cacc",
   "metadata": {},
   "outputs": [
    {
     "data": {
      "text/plain": [
       "(291828.79377431906, 1.7133333333333334e-06, 14.225757416418894)"
      ]
     },
     "execution_count": 14,
     "metadata": {},
     "output_type": "execute_result"
    }
   ],
   "source": [
    "# =====================================================================\n",
    "# numerical aperture of the objective\n",
    "# =====================================================================\n",
    "NA = 0.15\n",
    "um_m = NA / lambda_m  # maximum spatial frequency set by NA\n",
    "dx0 = 1 / (um_m * 2)  # system resolution based on the NA\n",
    "\n",
    "um_m, dx0, um_m/du"
   ]
  },
  {
   "cell_type": "code",
   "execution_count": 15,
   "id": "c7cab6de-a91d-4ba8-a7f4-f740261bef30",
   "metadata": {},
   "outputs": [
    {
     "data": {
      "text/plain": [
       "2625806.4516129033"
      ]
     },
     "execution_count": 15,
     "metadata": {},
     "output_type": "execute_result"
    }
   ],
   "source": [
    "# =====================================================================\n",
    "# magnification of the system\n",
    "# =====================================================================\n",
    "mag = 8.14\n",
    "dpix_c = 1.55e-6  # pixel size on the sensor (meters)\n",
    "dpix_m = dpix_c / mag  # effective pixel size on object plane\n",
    "\n",
    "1/(2*dpix_m) #Nyquist frequency"
   ]
  },
  {
   "cell_type": "code",
   "execution_count": 16,
   "id": "6646f832-f6c9-4968-ab80-e35b828dfce3",
   "metadata": {},
   "outputs": [
    {
     "data": {
      "text/plain": [
       "20514.112903225807"
      ]
     },
     "execution_count": 16,
     "metadata": {},
     "output_type": "execute_result"
    }
   ],
   "source": [
    "# =====================================================================\n",
    "# number of pixels in image patch (single-k assumption)\n",
    "# =====================================================================\n",
    "# Np should be set before this script is run\n",
    "# Example: Np = 256\n",
    "\n",
    "Np = 256\n",
    "FoV = Np * dpix_m  # Field of View in object space\n",
    "\n",
    "# sampling size at Fourier plane\n",
    "if Np % 2 == 1:\n",
    "    du = 1 / (dpix_m * (Np - 1))\n",
    "else:\n",
    "    du = 1 / FoV\n",
    "\n",
    "# generate cutoff window by NA\n",
    "m = np.arange(1, Np + 1)\n",
    "mm, nn = np.meshgrid(m - (Np + 1) // 2, m - (Np + 1) // 2)\n",
    "ridx = np.sqrt(mm**2 + nn**2)\n",
    "um_idx = um_m / du\n",
    "w_NA = (ridx < um_idx).astype(np.float64)\n",
    "\n",
    "# support of OTF is 2x ATF(NA)\n",
    "Ps_otf = (ridx < 2 * um_idx).astype(np.float64)\n",
    "\n",
    "phC = np.ones((Np, Np))\n",
    "aberration = np.ones((Np, Np))\n",
    "pupil = w_NA * phC * aberration\n",
    "\n",
    "du"
   ]
  },
  {
   "cell_type": "code",
   "execution_count": 17,
   "id": "c18bfd36-2515-4065-a3a1-0357e5d801d1",
   "metadata": {},
   "outputs": [],
   "source": [
    "# =====================================================================\n",
    "# set up image coordinates\n",
    "# =====================================================================\n",
    "ncent = np.array([640, 512])  # original image center\n",
    "# nstart = np.array([981, 1181])  # user must define before running\n",
    "nstart = np.array([1, 1])\n",
    "img_ncent = nstart - ncent + Np / 2\n",
    "img_center = (nstart - ncent + Np / 2) * dpix_m\n",
    "img_start = nstart * dpix_m\n",
    "img_end = (nstart + Np) * dpix_m"
   ]
  },
  {
   "cell_type": "code",
   "execution_count": 18,
   "id": "fe3ab092-8ec9-416c-9391-47f3ff32dab6",
   "metadata": {},
   "outputs": [
    {
     "data": {
      "text/plain": [
       "array([[ True,  True,  True,  True,  True,  True,  True,  True],\n",
       "       [ True,  True,  True,  True,  True,  True,  True,  True],\n",
       "       [ True,  True,  True,  True,  True,  True,  True,  True],\n",
       "       [ True,  True,  True,  True,  True,  True,  True,  True],\n",
       "       [ True,  True,  True,  True,  True,  True,  True,  True],\n",
       "       [ True,  True,  True,  True,  True,  True,  True,  True],\n",
       "       [ True,  True,  True,  True,  True,  True,  True,  True],\n",
       "       [ True,  True,  True,  True,  True,  True,  True,  True]])"
      ]
     },
     "execution_count": 18,
     "metadata": {},
     "output_type": "execute_result"
    }
   ],
   "source": [
    "# =====================================================================\n",
    "# LED array geometries and derived quantities\n",
    "# =====================================================================\n",
    "ds_led = 8.125e-3  # spacing between neighboring LEDs\n",
    "z_led = 145e-3  # distance from LED to object\n",
    "\n",
    "dia_led = 12  # diameter of the circle of LEDs used\n",
    "lit_cenv = 4\n",
    "lit_cenh = 4\n",
    "vled = np.arange(8) +1 - lit_cenv\n",
    "hled = np.arange(8) +1 - lit_cenh\n",
    "\n",
    "hhled, vvled = np.meshgrid(hled, vled)\n",
    "rrled = np.sqrt(hhled**2 + vvled**2)\n",
    "LitCoord = rrled < dia_led / 2\n",
    "Nled = np.sum(LitCoord)\n",
    "Litidx = np.where(LitCoord)\n",
    "\n",
    "LitCoord"
   ]
  },
  {
   "cell_type": "code",
   "execution_count": 20,
   "id": "0c27e0cb-2d96-4660-ae0c-61ff1c7c3be1",
   "metadata": {},
   "outputs": [
    {
     "data": {
      "text/plain": [
       "(array([[ 16,  16,  16,  16,  16,  16,  16,  15],\n",
       "        [ 10,  11,  11,  11,  11,  11,  10,  10],\n",
       "        [  5,   5,   5,   5,   5,   5,   5,   5],\n",
       "        [  0,   0,   0,   0,   0,   0,   0,   0],\n",
       "        [ -5,  -5,  -5,  -5,  -5,  -5,  -5,  -5],\n",
       "        [-10, -10, -10, -11, -10, -10, -10, -10],\n",
       "        [-15, -16, -16, -16, -16, -16, -15, -15],\n",
       "        [-20, -21, -21, -21, -21, -21, -20, -20]]),\n",
       " array([[ 16,  10,   5,   0,  -5, -10, -15, -20],\n",
       "        [ 16,  11,   5,   0,  -5, -10, -16, -21],\n",
       "        [ 16,  11,   5,   0,  -5, -10, -16, -21],\n",
       "        [ 16,  11,   5,   0,  -5, -10, -16, -21],\n",
       "        [ 16,  11,   5,   0,  -5, -10, -16, -21],\n",
       "        [ 16,  11,   5,   0,  -5, -10, -16, -21],\n",
       "        [ 16,  10,   5,   0,  -5, -10, -15, -20],\n",
       "        [ 15,  10,   5,   0,  -5, -10, -15, -20]]),\n",
       " 14,\n",
       " array([0.23205235, 0.19877861, 0.17513719, 0.16626103, 0.1747332 ,\n",
       "        0.19807912, 0.23117997, 0.26957501, 0.19882232, 0.15733537,\n",
       "        0.1250579 , 0.11186732, 0.12447375, 0.15642322, 0.19777228,\n",
       "        0.24273618, 0.17523822, 0.12513086, 0.07981948, 0.05645127,\n",
       "        0.07888364, 0.12396037, 0.17402387, 0.22461779, 0.16642163,\n",
       "        0.1120314 , 0.05661681, 0.00083863, 0.05528105, 0.11071419,\n",
       "        0.16513447, 0.21808836, 0.17493572, 0.12469358, 0.07911912,\n",
       "        0.05545013, 0.07817468, 0.12351868, 0.17371899, 0.22439139,\n",
       "        0.19829845, 0.15665225, 0.12418116, 0.11088007, 0.12359261,\n",
       "        0.1557357 , 0.19724516, 0.24232444, 0.23139887, 0.197992  ,\n",
       "        0.17422732, 0.16529629, 0.17382095, 0.19728927, 0.23052345,\n",
       "        0.26903487, 0.26978523, 0.24294227, 0.22480674, 0.21824501,\n",
       "        0.22450492, 0.2423933 , 0.269065  , 0.30144286]))"
      ]
     },
     "execution_count": 20,
     "metadata": {},
     "output_type": "execute_result"
    }
   ],
   "source": [
    "# illumination angles\n",
    "dd = np.sqrt(((-hhled * ds_led - img_center[0])**2 +\n",
    "              (-vvled * ds_led - img_center[1])**2 +\n",
    "              z_led**2))\n",
    "sin_thetav = (-hhled * ds_led - img_center[0]) / dd\n",
    "sin_thetah = (-vvled * ds_led - img_center[1]) / dd\n",
    "illumination_na = np.sqrt(sin_thetav**2 + sin_thetah**2)\n",
    "\n",
    "# spatial frequency for each LED\n",
    "vled_freq = sin_thetav / lambda_m\n",
    "uled_freq = sin_thetah / lambda_m\n",
    "idx_u = np.round(uled_freq / du).astype(int)\n",
    "idx_v = np.round(vled_freq / du).astype(int)\n",
    "idx_aperture=np.round(um_m/ du).astype(int)\n",
    "\n",
    "illumination_na_used = illumination_na[LitCoord]\n",
    "NBF = np.sum(illumination_na_used < NA)\n",
    "\n",
    "idx_u, idx_v, idx_aperture, illumination_na_used"
   ]
  },
  {
   "cell_type": "code",
   "execution_count": 19,
   "id": "39a35c02-609f-45ec-a0d7-339873e02bf5",
   "metadata": {},
   "outputs": [
    {
     "name": "stdout",
     "output_type": "stream",
     "text": [
      "synthetic NA is 0.45226678771291134\n"
     ]
    },
    {
     "data": {
      "text/plain": [
       "(256, 1.9041769041769041e-07)"
      ]
     },
     "execution_count": 19,
     "metadata": {},
     "output_type": "execute_result"
    }
   ],
   "source": [
    "# maximum achievable spatial frequency with synthetic aperture\n",
    "um_p = np.max(illumination_na_used) / lambda_m + um_m\n",
    "dx0_p = 1 / (um_p * 2)\n",
    "print(\"synthetic NA is\", um_p * lambda_m)\n",
    "\n",
    "# original object assumptions\n",
    "N_obj = int(np.round(2 * um_p / du) * 2)\n",
    "N_obj = int(np.ceil(N_obj / Np) * Np)\n",
    "um_obj = du * N_obj / 2\n",
    "dx_obj = 1 / (um_obj * 2)\n",
    "\n",
    "# spatial grids\n",
    "xp, yp = np.meshgrid(np.arange(-Np/2, Np/2) * dpix_m,\n",
    "                     np.arange(-Np/2, Np/2) * dpix_m)\n",
    "x0 = np.arange(-N_obj/2, N_obj/2/2) * dx_obj\n",
    "xx0, yy0 = np.meshgrid(x0, x0)\n",
    "\n",
    "# define propagation transfer function\n",
    "u = np.linspace(-um_obj, um_obj - du, N_obj)\n",
    "v = np.linspace(-um_obj, um_obj - du, N_obj)\n",
    "u, v = np.meshgrid(u, v)\n",
    "\n",
    "# Fresnel approximation (object defocus distance)\n",
    "z0 = 0\n",
    "H0 = np.exp(1j * 2 * np.pi / lambda_m * z0) * \\\n",
    "     np.exp(-1j * np.pi * lambda_m * z0 * (u**2 + v**2))\n",
    "\n",
    "# Angular spectrum (optional alternative)\n",
    "# dz = some_value\n",
    "# H0 = np.exp(1j * 2 * np.pi * np.sqrt((1 / lambda_m**2 - u**2 - v**2) *\n",
    "#              (np.sqrt(u**2 + v**2) < 1 / lambda_m)) * dz)\n",
    "\n",
    "N_obj, dx_obj"
   ]
  },
  {
   "cell_type": "code",
   "execution_count": null,
   "id": "6a0c04a5-d4b1-49b8-9f76-78571f752897",
   "metadata": {},
   "outputs": [],
   "source": []
  }
 ],
 "metadata": {
  "kernelspec": {
   "display_name": "Python 3",
   "language": "python",
   "name": "python3"
  },
  "language_info": {
   "codemirror_mode": {
    "name": "ipython",
    "version": 3
   },
   "file_extension": ".py",
   "mimetype": "text/x-python",
   "name": "python",
   "nbconvert_exporter": "python",
   "pygments_lexer": "ipython3",
   "version": "3.11.5"
  }
 },
 "nbformat": 4,
 "nbformat_minor": 5
}
